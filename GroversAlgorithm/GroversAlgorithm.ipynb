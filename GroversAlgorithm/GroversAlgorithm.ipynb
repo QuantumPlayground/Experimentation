{
 "cells": [
  {
   "cell_type": "code",
   "execution_count": 5,
   "metadata": {},
   "outputs": [
    {
     "ename": "ModuleNotFoundError",
     "evalue": "No module named 'qiskit.providers.aer'",
     "output_type": "error",
     "traceback": [
      "\u001b[31m---------------------------------------------------------------------------\u001b[39m",
      "\u001b[31mModuleNotFoundError\u001b[39m                       Traceback (most recent call last)",
      "\u001b[36mCell\u001b[39m\u001b[36m \u001b[39m\u001b[32mIn[5]\u001b[39m\u001b[32m, line 2\u001b[39m\n\u001b[32m      1\u001b[39m \u001b[38;5;28;01mfrom\u001b[39;00m\u001b[38;5;250m \u001b[39m\u001b[34;01mqiskit\u001b[39;00m\u001b[38;5;250m \u001b[39m\u001b[38;5;28;01mimport\u001b[39;00m QuantumCircuit\n\u001b[32m----> \u001b[39m\u001b[32m2\u001b[39m \u001b[38;5;28;01mfrom\u001b[39;00m\u001b[38;5;250m \u001b[39m\u001b[34;01mqiskit\u001b[39;00m\u001b[34;01m.\u001b[39;00m\u001b[34;01mproviders\u001b[39;00m\u001b[34;01m.\u001b[39;00m\u001b[34;01maer\u001b[39;00m\u001b[38;5;250m \u001b[39m\u001b[38;5;28;01mimport\u001b[39;00m Aer\n\u001b[32m      3\u001b[39m \u001b[38;5;28;01mfrom\u001b[39;00m\u001b[38;5;250m \u001b[39m\u001b[34;01mqiskit\u001b[39;00m\u001b[38;5;250m \u001b[39m\u001b[38;5;28;01mimport\u001b[39;00m execute\n\u001b[32m      4\u001b[39m \u001b[38;5;28;01mfrom\u001b[39;00m\u001b[38;5;250m \u001b[39m\u001b[34;01mqiskit\u001b[39;00m\u001b[34;01m.\u001b[39;00m\u001b[34;01mvisualization\u001b[39;00m\u001b[38;5;250m \u001b[39m\u001b[38;5;28;01mimport\u001b[39;00m plot_histogram\n",
      "\u001b[31mModuleNotFoundError\u001b[39m: No module named 'qiskit.providers.aer'"
     ]
    }
   ],
   "source": [
    "from qiskit import QuantumCircuit\n",
    "from qiskit.providers.aer import Aer\n",
    "from qiskit import execute\n",
    "from qiskit.visualization import plot_histogram\n",
    "from math import pi"
   ]
  },
  {
   "cell_type": "code",
   "execution_count": null,
   "metadata": {},
   "outputs": [],
   "source": [
    "def oracle(circuit, qubits):\n",
    "    \"\"\"Oracle marking the |11> state as the solution.\"\"\"\n",
    "    circuit.cz(qubits[0], qubits[1])\n",
    "\n",
    "def diffuser(nqubits):\n",
    "    \"\"\"Grover's diffuser.\"\"\"\n",
    "    qc = QuantumCircuit(nqubits)\n",
    "    qc.h(range(nqubits))\n",
    "    qc.x(range(nqubits))\n",
    "    qc.h(nqubits - 1)\n",
    "    qc.mcx(list(range(nqubits - 1)), nqubits - 1)\n",
    "    qc.h(nqubits - 1)\n",
    "    qc.x(range(nqubits))\n",
    "    qc.h(range(nqubits))\n",
    "    return qc"
   ]
  },
  {
   "cell_type": "code",
   "execution_count": null,
   "metadata": {},
   "outputs": [],
   "source": [
    "# Number of qubits\n",
    "nqubits = 2\n",
    "grover = QuantumCircuit(nqubits)\n",
    "\n",
    "# Initialize in the superposition state\n",
    "grover.h(range(nqubits))\n",
    "\n",
    "# Apply the oracle (mark |11> as the solution)\n",
    "oracle(grover, [0, 1])\n",
    "\n",
    "# Apply the Grover diffuser\n",
    "grover.compose(diffuser(nqubits), inplace=True)\n",
    "\n",
    "# Measure the result\n",
    "grover.measure_all()\n",
    "\n",
    "# Simulate the circuit\n",
    "simulator = Aer.get_backend('aer_simulator')\n",
    "job = execute(grover, simulator, shots=1024)\n",
    "result = job.result()\n",
    "counts = result.get_counts(grover)\n",
    "\n",
    "# Display results\n",
    "print(\"Measurement Results:\")\n",
    "print(counts)\n",
    "grover.draw('mpl').show()\n",
    "plot_histogram(counts).show()"
   ]
  }
 ],
 "metadata": {
  "kernelspec": {
   "display_name": "QExp",
   "language": "python",
   "name": "python3"
  },
  "language_info": {
   "codemirror_mode": {
    "name": "ipython",
    "version": 3
   },
   "file_extension": ".py",
   "mimetype": "text/x-python",
   "name": "python",
   "nbconvert_exporter": "python",
   "pygments_lexer": "ipython3",
   "version": "3.11.4"
  },
  "orig_nbformat": 4
 },
 "nbformat": 4,
 "nbformat_minor": 2
}
